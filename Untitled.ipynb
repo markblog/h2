{
 "cells": [
  {
   "cell_type": "code",
   "execution_count": 4,
   "metadata": {},
   "outputs": [],
   "source": [
    "\n",
    "class removeDuplicate(object):\n",
    "\t\"\"\"\n",
    "    Description:\n",
    "    Remove duplicate records based on given columns.\n",
    "\n",
    "    @param df:string\n",
    "    @param colName:string\n",
    "\t\n",
    "    @return: r_type: dataframe\n",
    "    \"\"\"\n",
    "\n",
    "\tdef execute(self, df, colName):\n",
    "\t\t# print(\"removeDuplicate data performing!\")\n",
    "\t\tkeepRestData = True\n",
    "\t\tif colName and keepRestData:\t\n",
    "\t\t\tdf =df.drop_duplicates(colName, inplace=False)\n",
    "\t\telif colName and keepRestData == False:\n",
    "\t\t\tdf = df.drop_duplicates(colName, inplace=False).query(','.join(colName))\n",
    "\t\telse:\n",
    "\t\t\tdf = df.drop_duplicates(inplace=False)\n",
    "\t\t\t# return df\n",
    "\t\treturn df\n"
   ]
  },
  {
   "cell_type": "code",
   "execution_count": 6,
   "metadata": {},
   "outputs": [],
   "source": [
    "rd =removeDuplicate()"
   ]
  },
  {
   "cell_type": "code",
   "execution_count": 7,
   "metadata": {},
   "outputs": [
    {
     "data": {
      "text/plain": [
       "{}"
      ]
     },
     "execution_count": 7,
     "metadata": {},
     "output_type": "execute_result"
    }
   ],
   "source": [
    "vars(rd)"
   ]
  },
  {
   "cell_type": "code",
   "execution_count": 8,
   "metadata": {},
   "outputs": [
    {
     "data": {
      "text/plain": [
       "['__class__',\n",
       " '__delattr__',\n",
       " '__dict__',\n",
       " '__dir__',\n",
       " '__doc__',\n",
       " '__eq__',\n",
       " '__format__',\n",
       " '__ge__',\n",
       " '__getattribute__',\n",
       " '__gt__',\n",
       " '__hash__',\n",
       " '__init__',\n",
       " '__init_subclass__',\n",
       " '__le__',\n",
       " '__lt__',\n",
       " '__module__',\n",
       " '__ne__',\n",
       " '__new__',\n",
       " '__reduce__',\n",
       " '__reduce_ex__',\n",
       " '__repr__',\n",
       " '__setattr__',\n",
       " '__sizeof__',\n",
       " '__str__',\n",
       " '__subclasshook__',\n",
       " '__weakref__',\n",
       " 'execute']"
      ]
     },
     "execution_count": 8,
     "metadata": {},
     "output_type": "execute_result"
    }
   ],
   "source": [
    "dir(rd)"
   ]
  },
  {
   "cell_type": "code",
   "execution_count": 15,
   "metadata": {},
   "outputs": [
    {
     "name": "stdout",
     "output_type": "stream",
     "text": [
      "['__add__', '__class__', '__contains__', '__delattr__', '__dir__', '__doc__', '__eq__', '__format__', '__ge__', '__getattribute__', '__getitem__', '__getnewargs__', '__gt__', '__hash__', '__init__', '__init_subclass__', '__iter__', '__le__', '__len__', '__lt__', '__mul__', '__ne__', '__new__', '__reduce__', '__reduce_ex__', '__repr__', '__rmul__', '__setattr__', '__sizeof__', '__str__', '__subclasshook__', 'count', 'index']\n"
     ]
    }
   ],
   "source": [
    "print(dir(removeDuplicate.__bases__))"
   ]
  },
  {
   "cell_type": "code",
   "execution_count": 16,
   "metadata": {},
   "outputs": [
    {
     "name": "stdout",
     "output_type": "stream",
     "text": [
      "(<class 'object'>,)\n"
     ]
    }
   ],
   "source": [
    "print(removeDuplicate.__bases__)"
   ]
  },
  {
   "cell_type": "code",
   "execution_count": 17,
   "metadata": {},
   "outputs": [
    {
     "name": "stdout",
     "output_type": "stream",
     "text": [
      "<class 'tuple'>\n"
     ]
    }
   ],
   "source": [
    "print(type(removeDuplicate.__bases__))"
   ]
  },
  {
   "cell_type": "code",
   "execution_count": 18,
   "metadata": {},
   "outputs": [
    {
     "name": "stdout",
     "output_type": "stream",
     "text": [
      "\n",
      "    Description:\n",
      "    Remove duplicate records based on given columns.\n",
      "\n",
      "    @param df:string\n",
      "    @param colName:string\n",
      "\t\n",
      "    @return: r_type: dataframe\n",
      "    \n"
     ]
    }
   ],
   "source": [
    "print(removeDuplicate.__doc__)"
   ]
  },
  {
   "cell_type": "code",
   "execution_count": 19,
   "metadata": {},
   "outputs": [
    {
     "name": "stdout",
     "output_type": "stream",
     "text": [
      "{'__module__': '__main__', '__doc__': '\\n    Description:\\n    Remove duplicate records based on given columns.\\n\\n    @param df:string\\n    @param colName:string\\n\\t\\n    @return: r_type: dataframe\\n    ', 'execute': <function removeDuplicate.execute at 0x0000000A3B08DEA0>, '__dict__': <attribute '__dict__' of 'removeDuplicate' objects>, '__weakref__': <attribute '__weakref__' of 'removeDuplicate' objects>}\n"
     ]
    }
   ],
   "source": [
    "print(removeDuplicate.__dict__)"
   ]
  },
  {
   "cell_type": "code",
   "execution_count": null,
   "metadata": {},
   "outputs": [],
   "source": []
  }
 ],
 "metadata": {
  "kernelspec": {
   "display_name": "Python 3",
   "language": "python",
   "name": "python3"
  },
  "language_info": {
   "codemirror_mode": {
    "name": "ipython",
    "version": 3
   },
   "file_extension": ".py",
   "mimetype": "text/x-python",
   "name": "python",
   "nbconvert_exporter": "python",
   "pygments_lexer": "ipython3",
   "version": "3.6.4"
  }
 },
 "nbformat": 4,
 "nbformat_minor": 2
}
